{
 "cells": [
  {
   "cell_type": "markdown",
   "metadata": {
    "editable": true
   },
   "source": [
    "# Part I. ETL Pipeline for Pre-Processing the Files"
   ]
  },
  {
   "cell_type": "markdown",
   "metadata": {
    "editable": true
   },
   "source": [
    "## PLEASE RUN THE FOLLOWING CODE FOR PRE-PROCESSING THE FILES"
   ]
  },
  {
   "cell_type": "markdown",
   "metadata": {
    "editable": true
   },
   "source": [
    "#### Import Python packages "
   ]
  },
  {
   "cell_type": "code",
   "execution_count": 1,
   "metadata": {
    "editable": true
   },
   "outputs": [],
   "source": [
    "# Import Python packages \n",
    "import pandas as pd\n",
    "import cassandra\n",
    "import re\n",
    "import os\n",
    "import glob\n",
    "import numpy as np\n",
    "import json\n",
    "import csv"
   ]
  },
  {
   "cell_type": "markdown",
   "metadata": {
    "editable": true
   },
   "source": [
    "#### Creating list of filepaths to process original event csv data files"
   ]
  },
  {
   "cell_type": "code",
   "execution_count": 19,
   "metadata": {
    "editable": true
   },
   "outputs": [
    {
     "name": "stdout",
     "output_type": "stream",
     "text": [
      "C:\\Users\\lenovo\\OneDrive\\Documents\\GitHub\\DataEngineer_NanoDegree_Udacity\\Data_Modeling\\Data Modeling with Apach Cassandra\\home\n",
      "C:\\Users\\lenovo\\OneDrive\\Documents\\GitHub\\DataEngineer_NanoDegree_Udacity\\Data_Modeling\\Data Modeling with Apach Cassandra\\home/event_data\n",
      "['C:\\\\Users\\\\lenovo\\\\OneDrive\\\\Documents\\\\GitHub\\\\DataEngineer_NanoDegree_Udacity\\\\Data_Modeling\\\\Data Modeling with Apach Cassandra\\\\home/event_data\\\\2018-11-01-events.csv', 'C:\\\\Users\\\\lenovo\\\\OneDrive\\\\Documents\\\\GitHub\\\\DataEngineer_NanoDegree_Udacity\\\\Data_Modeling\\\\Data Modeling with Apach Cassandra\\\\home/event_data\\\\2018-11-02-events.csv', 'C:\\\\Users\\\\lenovo\\\\OneDrive\\\\Documents\\\\GitHub\\\\DataEngineer_NanoDegree_Udacity\\\\Data_Modeling\\\\Data Modeling with Apach Cassandra\\\\home/event_data\\\\2018-11-03-events.csv', 'C:\\\\Users\\\\lenovo\\\\OneDrive\\\\Documents\\\\GitHub\\\\DataEngineer_NanoDegree_Udacity\\\\Data_Modeling\\\\Data Modeling with Apach Cassandra\\\\home/event_data\\\\2018-11-04-events.csv', 'C:\\\\Users\\\\lenovo\\\\OneDrive\\\\Documents\\\\GitHub\\\\DataEngineer_NanoDegree_Udacity\\\\Data_Modeling\\\\Data Modeling with Apach Cassandra\\\\home/event_data\\\\2018-11-05-events.csv', 'C:\\\\Users\\\\lenovo\\\\OneDrive\\\\Documents\\\\GitHub\\\\DataEngineer_NanoDegree_Udacity\\\\Data_Modeling\\\\Data Modeling with Apach Cassandra\\\\home/event_data\\\\2018-11-06-events.csv', 'C:\\\\Users\\\\lenovo\\\\OneDrive\\\\Documents\\\\GitHub\\\\DataEngineer_NanoDegree_Udacity\\\\Data_Modeling\\\\Data Modeling with Apach Cassandra\\\\home/event_data\\\\2018-11-07-events.csv', 'C:\\\\Users\\\\lenovo\\\\OneDrive\\\\Documents\\\\GitHub\\\\DataEngineer_NanoDegree_Udacity\\\\Data_Modeling\\\\Data Modeling with Apach Cassandra\\\\home/event_data\\\\2018-11-08-events.csv', 'C:\\\\Users\\\\lenovo\\\\OneDrive\\\\Documents\\\\GitHub\\\\DataEngineer_NanoDegree_Udacity\\\\Data_Modeling\\\\Data Modeling with Apach Cassandra\\\\home/event_data\\\\2018-11-09-events.csv', 'C:\\\\Users\\\\lenovo\\\\OneDrive\\\\Documents\\\\GitHub\\\\DataEngineer_NanoDegree_Udacity\\\\Data_Modeling\\\\Data Modeling with Apach Cassandra\\\\home/event_data\\\\2018-11-10-events.csv', 'C:\\\\Users\\\\lenovo\\\\OneDrive\\\\Documents\\\\GitHub\\\\DataEngineer_NanoDegree_Udacity\\\\Data_Modeling\\\\Data Modeling with Apach Cassandra\\\\home/event_data\\\\2018-11-11-events.csv', 'C:\\\\Users\\\\lenovo\\\\OneDrive\\\\Documents\\\\GitHub\\\\DataEngineer_NanoDegree_Udacity\\\\Data_Modeling\\\\Data Modeling with Apach Cassandra\\\\home/event_data\\\\2018-11-12-events.csv', 'C:\\\\Users\\\\lenovo\\\\OneDrive\\\\Documents\\\\GitHub\\\\DataEngineer_NanoDegree_Udacity\\\\Data_Modeling\\\\Data Modeling with Apach Cassandra\\\\home/event_data\\\\2018-11-13-events.csv', 'C:\\\\Users\\\\lenovo\\\\OneDrive\\\\Documents\\\\GitHub\\\\DataEngineer_NanoDegree_Udacity\\\\Data_Modeling\\\\Data Modeling with Apach Cassandra\\\\home/event_data\\\\2018-11-14-events.csv', 'C:\\\\Users\\\\lenovo\\\\OneDrive\\\\Documents\\\\GitHub\\\\DataEngineer_NanoDegree_Udacity\\\\Data_Modeling\\\\Data Modeling with Apach Cassandra\\\\home/event_data\\\\2018-11-15-events.csv', 'C:\\\\Users\\\\lenovo\\\\OneDrive\\\\Documents\\\\GitHub\\\\DataEngineer_NanoDegree_Udacity\\\\Data_Modeling\\\\Data Modeling with Apach Cassandra\\\\home/event_data\\\\2018-11-16-events.csv', 'C:\\\\Users\\\\lenovo\\\\OneDrive\\\\Documents\\\\GitHub\\\\DataEngineer_NanoDegree_Udacity\\\\Data_Modeling\\\\Data Modeling with Apach Cassandra\\\\home/event_data\\\\2018-11-17-events.csv', 'C:\\\\Users\\\\lenovo\\\\OneDrive\\\\Documents\\\\GitHub\\\\DataEngineer_NanoDegree_Udacity\\\\Data_Modeling\\\\Data Modeling with Apach Cassandra\\\\home/event_data\\\\2018-11-18-events.csv', 'C:\\\\Users\\\\lenovo\\\\OneDrive\\\\Documents\\\\GitHub\\\\DataEngineer_NanoDegree_Udacity\\\\Data_Modeling\\\\Data Modeling with Apach Cassandra\\\\home/event_data\\\\2018-11-19-events.csv', 'C:\\\\Users\\\\lenovo\\\\OneDrive\\\\Documents\\\\GitHub\\\\DataEngineer_NanoDegree_Udacity\\\\Data_Modeling\\\\Data Modeling with Apach Cassandra\\\\home/event_data\\\\2018-11-20-events.csv', 'C:\\\\Users\\\\lenovo\\\\OneDrive\\\\Documents\\\\GitHub\\\\DataEngineer_NanoDegree_Udacity\\\\Data_Modeling\\\\Data Modeling with Apach Cassandra\\\\home/event_data\\\\2018-11-21-events.csv', 'C:\\\\Users\\\\lenovo\\\\OneDrive\\\\Documents\\\\GitHub\\\\DataEngineer_NanoDegree_Udacity\\\\Data_Modeling\\\\Data Modeling with Apach Cassandra\\\\home/event_data\\\\2018-11-22-events.csv', 'C:\\\\Users\\\\lenovo\\\\OneDrive\\\\Documents\\\\GitHub\\\\DataEngineer_NanoDegree_Udacity\\\\Data_Modeling\\\\Data Modeling with Apach Cassandra\\\\home/event_data\\\\2018-11-23-events.csv', 'C:\\\\Users\\\\lenovo\\\\OneDrive\\\\Documents\\\\GitHub\\\\DataEngineer_NanoDegree_Udacity\\\\Data_Modeling\\\\Data Modeling with Apach Cassandra\\\\home/event_data\\\\2018-11-24-events.csv', 'C:\\\\Users\\\\lenovo\\\\OneDrive\\\\Documents\\\\GitHub\\\\DataEngineer_NanoDegree_Udacity\\\\Data_Modeling\\\\Data Modeling with Apach Cassandra\\\\home/event_data\\\\2018-11-25-events.csv', 'C:\\\\Users\\\\lenovo\\\\OneDrive\\\\Documents\\\\GitHub\\\\DataEngineer_NanoDegree_Udacity\\\\Data_Modeling\\\\Data Modeling with Apach Cassandra\\\\home/event_data\\\\2018-11-26-events.csv', 'C:\\\\Users\\\\lenovo\\\\OneDrive\\\\Documents\\\\GitHub\\\\DataEngineer_NanoDegree_Udacity\\\\Data_Modeling\\\\Data Modeling with Apach Cassandra\\\\home/event_data\\\\2018-11-27-events.csv', 'C:\\\\Users\\\\lenovo\\\\OneDrive\\\\Documents\\\\GitHub\\\\DataEngineer_NanoDegree_Udacity\\\\Data_Modeling\\\\Data Modeling with Apach Cassandra\\\\home/event_data\\\\2018-11-28-events.csv', 'C:\\\\Users\\\\lenovo\\\\OneDrive\\\\Documents\\\\GitHub\\\\DataEngineer_NanoDegree_Udacity\\\\Data_Modeling\\\\Data Modeling with Apach Cassandra\\\\home/event_data\\\\2018-11-29-events.csv', 'C:\\\\Users\\\\lenovo\\\\OneDrive\\\\Documents\\\\GitHub\\\\DataEngineer_NanoDegree_Udacity\\\\Data_Modeling\\\\Data Modeling with Apach Cassandra\\\\home/event_data\\\\2018-11-30-events.csv']\n"
     ]
    }
   ],
   "source": [
    "# checking your current working directory\n",
    "print(os.getcwd())\n",
    "\n",
    "# Get your current folder and subfolder event data\n",
    "filepath = os.getcwd() + '/event_data'\n",
    "\n",
    "# Create a for loop to create a list of files and collect each filepath\n",
    "for root, dirs, files in os.walk(filepath):\n",
    "    print(root)\n",
    "# join the file path and roots with the subdirectories using glob\n",
    "    file_path_list = glob.glob(os.path.join(root,'*'))\n",
    "    print(file_path_list)"
   ]
  },
  {
   "cell_type": "markdown",
   "metadata": {
    "editable": true
   },
   "source": [
    "#### Processing the files to create the data file csv that will be used for Apache Casssandra tables"
   ]
  },
  {
   "cell_type": "code",
   "execution_count": 46,
   "metadata": {
    "editable": true
   },
   "outputs": [
    {
     "name": "stdout",
     "output_type": "stream",
     "text": [
      "8056\n"
     ]
    }
   ],
   "source": [
    "# initiating an empty list of rows that will be generated from each file\n",
    "full_data_rows_list = [] \n",
    "    \n",
    "# for every filepath in the file path list \n",
    "for f in file_path_list:\n",
    "# reading csv file \n",
    "    with open(f, 'r', encoding = 'utf8', newline='') as csvfile: \n",
    "        # creating a csv reader object \n",
    "        csvreader = csv.reader(csvfile) \n",
    "        next(csvreader)\n",
    "        \n",
    " # extracting each data row one by one and append it        \n",
    "        for line in csvreader:\n",
    "            #print(line)\n",
    "            full_data_rows_list.append(line) \n",
    "# uncomment the code below if you would like to get total number of rows \n",
    "print(len(full_data_rows_list))\n",
    "# uncomment the code below if you would like to check to see what the list of event data rows will look like\n",
    "#print(full_data_rows_list)\n",
    "\n",
    "# creating a smaller event data csv file called event_datafile_full csv that will be used to insert data into the \\\n",
    "# Apache Cassandra tables\n",
    "csv.register_dialect('myDialect', quoting=csv.QUOTE_ALL, skipinitialspace=True)\n",
    "\n",
    "with open('event_datafile_new.csv', 'w', encoding = 'utf8', newline='') as f:\n",
    "    writer = csv.writer(f, dialect='myDialect')\n",
    "    writer.writerow(['artist','firstName','gender','itemInSession','lastName','length',\\\n",
    "                'level','location','sessionId','song','userId'])\n",
    "    for row in full_data_rows_list:\n",
    "        if (row[0] == ''):\n",
    "            continue\n",
    "        writer.writerow((row[0], row[2], row[3], row[4], row[5], row[6], row[7], row[8], row[12], row[13], row[16]))\n"
   ]
  },
  {
   "cell_type": "code",
   "execution_count": 47,
   "metadata": {
    "editable": true
   },
   "outputs": [
    {
     "name": "stdout",
     "output_type": "stream",
     "text": [
      "6821\n"
     ]
    }
   ],
   "source": [
    "# check the number of rows in your csv file\n",
    "with open('event_datafile_new.csv', 'r', encoding = 'utf8') as f:\n",
    "    print(sum(1 for line in f))"
   ]
  },
  {
   "cell_type": "markdown",
   "metadata": {
    "editable": true
   },
   "source": [
    "# Part II. Complete the Apache Cassandra coding portion of your project. \n",
    "\n",
    "## Now you are ready to work with the CSV file titled <font color=red>event_datafile_new.csv</font>, located within the Workspace directory.  The event_datafile_new.csv contains the following columns: \n",
    "- artist \n",
    "- firstName of user\n",
    "- gender of user\n",
    "- item number in session\n",
    "- last name of user\n",
    "- length of the song\n",
    "- level (paid or free song)\n",
    "- location of the user\n",
    "- sessionId\n",
    "- song title\n",
    "- userId\n",
    "\n",
    "The image below is a screenshot of what the denormalized data should appear like in the <font color=red>**event_datafile_new.csv**</font> after the code above is run:<br>\n",
    "\n",
    "<img src=\"images/image_event_datafile_new.jpg\">"
   ]
  },
  {
   "cell_type": "markdown",
   "metadata": {
    "editable": true
   },
   "source": [
    "## Begin writing your Apache Cassandra code in the cells below"
   ]
  },
  {
   "cell_type": "markdown",
   "metadata": {
    "editable": true
   },
   "source": [
    "#### Creating a Cluster"
   ]
  },
  {
   "cell_type": "code",
   "execution_count": 32,
   "metadata": {
    "editable": true
   },
   "outputs": [],
   "source": [
    "from cassandra.cluster import Cluster\n",
    "try:\n",
    "    cluster = Cluster(['127.0.0.1'])\n",
    "    session = cluster.connect()\n",
    "except Exception as e:\n",
    "    print(e)    "
   ]
  },
  {
   "cell_type": "markdown",
   "metadata": {
    "editable": true
   },
   "source": [
    "#### Create Keyspace"
   ]
  },
  {
   "cell_type": "code",
   "execution_count": 33,
   "metadata": {
    "editable": true
   },
   "outputs": [],
   "source": [
    "try:\n",
    "    session.execute(\"\"\"\n",
    "    CREATE KEYSPACE IF NOT EXISTS eventdb \n",
    "    WITH REPLICATION = \n",
    "    { 'class' : 'SimpleStrategy', 'replication_factor' : 1 }\"\"\"\n",
    ")\n",
    "\n",
    "except Exception as e:\n",
    "    print(e)"
   ]
  },
  {
   "cell_type": "markdown",
   "metadata": {
    "editable": true
   },
   "source": [
    "#### Set Keyspace"
   ]
  },
  {
   "cell_type": "code",
   "execution_count": 34,
   "metadata": {
    "editable": true
   },
   "outputs": [],
   "source": [
    "try:\n",
    "    session.set_keyspace('eventdb')\n",
    "except Exception as e:\n",
    "    print(e)"
   ]
  },
  {
   "cell_type": "markdown",
   "metadata": {
    "editable": true
   },
   "source": [
    "### Now we need to create tables to run the following queries. Remember, with Apache Cassandra you model the database tables on the queries you want to run."
   ]
  },
  {
   "cell_type": "markdown",
   "metadata": {
    "editable": true
   },
   "source": [
    "## Create queries to ask the following three questions of the data\n",
    "\n",
    "### 1. Give me the artist, song title and song's length in the music app history that was heard during  sessionId = 338, and itemInSession  = 4\n",
    "\n",
    "\n",
    "### 2. Give me only the following: name of artist, song (sorted by itemInSession) and user (first and last name) for userid = 10, sessionid = 182\n",
    "    \n",
    "\n",
    "### 3. Give me every user name (first and last) in my music app history who listened to the song 'All Hands Against His Own'\n",
    "\n",
    "\n"
   ]
  },
  {
   "cell_type": "markdown",
   "metadata": {
    "editable": true
   },
   "source": [
    "## Query 1 \n",
    "### CQL of our query :\n",
    "*SELECT artist, song_title, song_length FROM songs_by_sessions WHERE sessionId = 338 AND itemInSession = 4*\n",
    "\n",
    "- We will name our table **songs_by_sessions**\n",
    "- Our primary key is composite: partition key sessionId, and clustering key itemInSession\n",
    "- The columns of our table will be: sessionId, itemInSession, artist, song_title and song_length."
   ]
  },
  {
   "cell_type": "code",
   "execution_count": 66,
   "metadata": {
    "editable": true
   },
   "outputs": [],
   "source": [
    "query = \"CREATE TABLE IF NOT EXISTS songs_by_sessions \"\n",
    "query = query + \"(sessionId int, itemInSession int, artist text, song_title text, song_length float,\\\n",
    "                PRIMARY KEY (sessionId, itemInSession))\"\n",
    "try:\n",
    "    session.execute(query)\n",
    "except Exception as e:\n",
    "    print(e)            "
   ]
  },
  {
   "cell_type": "code",
   "execution_count": 67,
   "metadata": {
    "editable": true
   },
   "outputs": [
    {
     "name": "stdout",
     "output_type": "stream",
     "text": [
      "<_csv.reader object at 0x000001FB1D09C180>\n"
     ]
    }
   ],
   "source": [
    "file = \"event_datafile_new.csv\"\n",
    "\n",
    "with open(file, 'r', encoding = 'utf8') as f:\n",
    "    csvreader = csv.reader(f)\n",
    "    next(csvreader) # skip header\n",
    "    for line in csvreader:\n",
    "        query = \"INSERT INTO songs_by_sessions(sessionId, itemInSession, artist, song_title, song_length)\"\n",
    "        query = query + \"VALUES (%s, %s, %s, %s, %s)\"\n",
    "        session.execute(query, (int(line[8]), int(line[3]), line[0], line[9], float(line[5])))"
   ]
  },
  {
   "cell_type": "markdown",
   "metadata": {
    "editable": true
   },
   "source": [
    "#### SELECT to verify that the data have been inserted into each table"
   ]
  },
  {
   "cell_type": "code",
   "execution_count": 68,
   "metadata": {
    "editable": true,
    "scrolled": true
   },
   "outputs": [
    {
     "name": "stdout",
     "output_type": "stream",
     "text": [
      "Faithless Music Matters (Mark Knight Dub) 495.30731201171875\n"
     ]
    }
   ],
   "source": [
    "query = \"SELECT artist, song_title, song_length FROM songs_by_sessions WHERE sessionId = 338 AND itemInSession = 4\"\n",
    "try:\n",
    "    rows = session.execute(query)\n",
    "except Exception as e:\n",
    "    print(e)\n",
    "    \n",
    "for row in rows:\n",
    "    print(row.artist, row.song_title, row.song_length)"
   ]
  },
  {
   "cell_type": "markdown",
   "metadata": {
    "editable": true
   },
   "source": [
    "## Query 2\n",
    "### CQL of our query :\n",
    "*SELECT artist, song, firstName, lastName FROM artists_by_user WHERE userId = 10 AND sessionId = 182*\n",
    "\n",
    "- We will name our table **artists_by_user**\n",
    "- Our primary key is composite: partition key userId and sessionId with a clustering column itemInSession to order by it.\n",
    "- The columns of our table will be: userId, sessionId, itemInSession, artist, song and firstName and lastName.\n"
   ]
  },
  {
   "cell_type": "code",
   "execution_count": 76,
   "metadata": {
    "editable": true
   },
   "outputs": [],
   "source": [
    "query = \"CREATE TABLE IF NOT EXISTS artists_by_user \"\n",
    "query = query + \"(userId int, sessionId int, itemInSession int, artist text, song text, firstName text, lastName text,\\\n",
    "                PRIMARY KEY (userId , sessionId, itemInSession))\"\n",
    "try:\n",
    "    session.execute(query)\n",
    "except Exception as e:\n",
    "    print(e)      "
   ]
  },
  {
   "cell_type": "code",
   "execution_count": 77,
   "metadata": {
    "editable": true
   },
   "outputs": [],
   "source": [
    "file = 'event_datafile_new.csv'\n",
    "\n",
    "with open(file, encoding = 'utf8') as f:\n",
    "    csvreader = csv.reader(f)\n",
    "    next(csvreader) # skip header\n",
    "    for line in csvreader:\n",
    "        query = \"INSERT INTO artists_by_user(userId, sessionId, itemInSession, artist, song, firstName, lastName)\"\n",
    "        query = query + \"VALUES (%s, %s, %s, %s, %s, %s, %s)\"\n",
    "        \n",
    "        session.execute(query, (int(line[10]), int(line[8]), int(line[3]), line[0], line[9], line[1], line[4]))"
   ]
  },
  {
   "cell_type": "markdown",
   "metadata": {
    "editable": true
   },
   "source": [
    "#### SELECT to verify that the data have been inserted into each table"
   ]
  },
  {
   "cell_type": "code",
   "execution_count": 71,
   "metadata": {
    "editable": true
   },
   "outputs": [
    {
     "name": "stdout",
     "output_type": "stream",
     "text": [
      "Down To The Bone Keep On Keepin' On Sylvie Cruz\n",
      "Three Drives Greece 2000 Sylvie Cruz\n",
      "Sebastien Tellier Kilometer Sylvie Cruz\n",
      "Lonnie Gordon Catch You Baby (Steve Pitron & Max Sanna Radio Edit) Sylvie Cruz\n"
     ]
    }
   ],
   "source": [
    "query = \"SELECT artist, song, firstName, lastName FROM artists_by_user WHERE userId = 10 AND sessionId = 182\"\n",
    "try:\n",
    "    rows = session.execute(query)\n",
    "except Exception as e:\n",
    "    print(e)\n",
    "    \n",
    "for row in rows:\n",
    "    print(row.artist, row.song, row.firstname, row.lastname)"
   ]
  },
  {
   "cell_type": "markdown",
   "metadata": {
    "editable": true
   },
   "source": [
    "## Query 3\n",
    "### CQL of our query :\n",
    "*SELECT firstName, lastName FROM user_details WHERE song = 'All Hands Against His Own*\n",
    "\n",
    "- We will name our table **user_details**\n",
    "- Our primary key will consist of partition key song, and clustering key userId to be unique.\n",
    "- The columns of our table will be: song, firstName, lastName and userId.\n"
   ]
  },
  {
   "cell_type": "code",
   "execution_count": 72,
   "metadata": {
    "editable": true
   },
   "outputs": [],
   "source": [
    "query = \"CREATE TABLE IF NOT EXISTS user_details \"\n",
    "query = query + \"(song text, firstName text, lastName text, userId int, PRIMARY KEY(song, userId))\"\n",
    "try:\n",
    "    session.execute(query)\n",
    "except Exception as e:\n",
    "    print(e)   "
   ]
  },
  {
   "cell_type": "code",
   "execution_count": 73,
   "metadata": {
    "editable": true
   },
   "outputs": [],
   "source": [
    "file = 'event_datafile_new.csv'\n",
    "\n",
    "with open(file, encoding = 'utf8') as f:\n",
    "    csvreader = csv.reader(f)\n",
    "    next(csvreader) # skip header\n",
    "    for line in csvreader:\n",
    "        query = \"INSERT INTO user_details(song, firstName, lastName, userId)\"\n",
    "        query = query + \"VALUES (%s, %s, %s, %s)\"\n",
    "\n",
    "        session.execute(query, (line[9], line[1], line[4], int(line[10])))"
   ]
  },
  {
   "cell_type": "markdown",
   "metadata": {
    "editable": true
   },
   "source": [
    "#### SELECT to verify that the data have been inserted into each table"
   ]
  },
  {
   "cell_type": "code",
   "execution_count": 74,
   "metadata": {
    "editable": true
   },
   "outputs": [
    {
     "name": "stdout",
     "output_type": "stream",
     "text": [
      "Jacqueline Lynch\n",
      "Tegan Levine\n",
      "Sara Johnson\n"
     ]
    }
   ],
   "source": [
    "query = \"SELECT firstName, lastName FROM user_details WHERE song = 'All Hands Against His Own'\"\n",
    "try:\n",
    "    rows = session.execute(query)\n",
    "except Exception as e:\n",
    "    print(e)\n",
    "    \n",
    "for row in rows:\n",
    "    print(row.firstname, row.lastname)"
   ]
  },
  {
   "cell_type": "markdown",
   "metadata": {
    "editable": true
   },
   "source": [
    "### Drop the tables before closing out the sessions"
   ]
  },
  {
   "cell_type": "code",
   "execution_count": 75,
   "metadata": {
    "editable": true
   },
   "outputs": [
    {
     "data": {
      "text/plain": [
       "<cassandra.cluster.ResultSet at 0x1fb1a555f28>"
      ]
     },
     "execution_count": 75,
     "metadata": {},
     "output_type": "execute_result"
    }
   ],
   "source": [
    "session.execute(\"\"\"DROP TABLE songs_by_sessions\"\"\")\n",
    "\n",
    "session.execute(\"\"\"DROP TABLE artists_by_user\"\"\")\n",
    "\n",
    "session.execute(\"\"\"DROP TABLE user_details\"\"\")"
   ]
  },
  {
   "cell_type": "markdown",
   "metadata": {
    "editable": true
   },
   "source": [
    "### Close the session and cluster connection¶"
   ]
  },
  {
   "cell_type": "code",
   "execution_count": 22,
   "metadata": {
    "editable": true
   },
   "outputs": [],
   "source": [
    "session.shutdown()\n",
    "cluster.shutdown()"
   ]
  },
  {
   "cell_type": "code",
   "execution_count": null,
   "metadata": {
    "editable": true
   },
   "outputs": [],
   "source": []
  },
  {
   "cell_type": "code",
   "execution_count": null,
   "metadata": {
    "editable": true
   },
   "outputs": [],
   "source": []
  }
 ],
 "metadata": {
  "kernelspec": {
   "display_name": "Python 3",
   "language": "python",
   "name": "python3"
  },
  "language_info": {
   "codemirror_mode": {
    "name": "ipython",
    "version": 3
   },
   "file_extension": ".py",
   "mimetype": "text/x-python",
   "name": "python",
   "nbconvert_exporter": "python",
   "pygments_lexer": "ipython3",
   "version": "3.6.1"
  }
 },
 "nbformat": 4,
 "nbformat_minor": 4
}
